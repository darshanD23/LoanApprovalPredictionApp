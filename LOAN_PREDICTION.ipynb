{
  "nbformat": 4,
  "nbformat_minor": 0,
  "metadata": {
    "colab": {
      "provenance": [],
      "authorship_tag": "ABX9TyN0l3StRbwIaoG9lU34o2nH",
      "include_colab_link": true
    },
    "kernelspec": {
      "name": "python3",
      "display_name": "Python 3"
    },
    "language_info": {
      "name": "python"
    }
  },
  "cells": [
    {
      "cell_type": "markdown",
      "metadata": {
        "id": "view-in-github",
        "colab_type": "text"
      },
      "source": [
        "<a href=\"https://colab.research.google.com/github/darshanD23/LoanApprovalPredictionApp/blob/main/LOAN_PREDICTION.ipynb\" target=\"_parent\"><img src=\"https://colab.research.google.com/assets/colab-badge.svg\" alt=\"Open In Colab\"/></a>"
      ]
    },
    {
      "cell_type": "code",
      "source": [
        "# 1. Import Libraries\n",
        "import pandas as pd\n",
        "import numpy as np\n",
        "from sklearn.model_selection import train_test_split\n",
        "from sklearn.preprocessing import LabelEncoder\n",
        "from sklearn.ensemble import RandomForestClassifier, VotingClassifier\n",
        "from sklearn.naive_bayes import GaussianNB\n",
        "from sklearn.tree import DecisionTreeClassifier\n",
        "from sklearn.neighbors import KNeighborsClassifier\n",
        "from sklearn.metrics import accuracy_score, confusion_matrix, classification_report\n",
        "import matplotlib.pyplot as plt\n",
        "import seaborn as sns"
      ],
      "metadata": {
        "id": "x1dHR1-Ollhk"
      },
      "execution_count": null,
      "outputs": []
    },
    {
      "cell_type": "code",
      "source": [
        "from google.colab import drive\n",
        "drive.mount('/content/drive', force_remount=True)"
      ],
      "metadata": {
        "colab": {
          "base_uri": "https://localhost:8080/"
        },
        "id": "vLuCGuP0nRRL",
        "outputId": "f9c040f8-a8ba-4e4e-ad6b-9a14fe895737"
      },
      "execution_count": null,
      "outputs": [
        {
          "output_type": "stream",
          "name": "stdout",
          "text": [
            "Mounted at /content/drive\n"
          ]
        }
      ]
    },
    {
      "cell_type": "code",
      "source": [
        "# Provide the relative path from '/content/drive/My Drive'\n",
        "data = pd.read_csv('/content/drive/My Drive/Colab Notebooks/loan_approval_dataset.csv')\n",
        "\n",
        "# Display the first few rows\n",
        "print(data.head())"
      ],
      "metadata": {
        "colab": {
          "base_uri": "https://localhost:8080/"
        },
        "id": "gETSNy-bnXC5",
        "outputId": "200fc105-b393-4c6d-ef3d-c57aa6f63efc"
      },
      "execution_count": null,
      "outputs": [
        {
          "output_type": "stream",
          "name": "stdout",
          "text": [
            "   loan_id   no_of_dependents      education  self_employed   income_annum  \\\n",
            "0        1                  2       Graduate             No        9600000   \n",
            "1        2                  0   Not Graduate            Yes        4100000   \n",
            "2        3                  3       Graduate             No        9100000   \n",
            "3        4                  3       Graduate             No        8200000   \n",
            "4        5                  5   Not Graduate            Yes        9800000   \n",
            "\n",
            "    loan_amount   loan_term   cibil_score   residential_assets_value  \\\n",
            "0      29900000          12           778                    2400000   \n",
            "1      12200000           8           417                    2700000   \n",
            "2      29700000          20           506                    7100000   \n",
            "3      30700000           8           467                   18200000   \n",
            "4      24200000          20           382                   12400000   \n",
            "\n",
            "    commercial_assets_value   luxury_assets_value   bank_asset_value  \\\n",
            "0                  17600000              22700000            8000000   \n",
            "1                   2200000               8800000            3300000   \n",
            "2                   4500000              33300000           12800000   \n",
            "3                   3300000              23300000            7900000   \n",
            "4                   8200000              29400000            5000000   \n",
            "\n",
            "   loan_status  \n",
            "0     Approved  \n",
            "1     Rejected  \n",
            "2     Rejected  \n",
            "3     Rejected  \n",
            "4     Rejected  \n"
          ]
        }
      ]
    },
    {
      "cell_type": "code",
      "source": [
        "# Basic Information\n",
        "print(\"\\nDataset Information:\")\n",
        "print(data.info())\n",
        "\n",
        "# Missing values\n",
        "print(\"\\nMissing Values in Dataset:\")\n",
        "print(data.isnull().sum())"
      ],
      "metadata": {
        "colab": {
          "base_uri": "https://localhost:8080/"
        },
        "id": "PknTinRXnnGT",
        "outputId": "8152a68a-1437-42ab-ab34-2dbc98524b94"
      },
      "execution_count": null,
      "outputs": [
        {
          "output_type": "stream",
          "name": "stdout",
          "text": [
            "\n",
            "Dataset Information:\n",
            "<class 'pandas.core.frame.DataFrame'>\n",
            "RangeIndex: 4269 entries, 0 to 4268\n",
            "Data columns (total 13 columns):\n",
            " #   Column                     Non-Null Count  Dtype \n",
            "---  ------                     --------------  ----- \n",
            " 0   loan_id                    4269 non-null   int64 \n",
            " 1    no_of_dependents          4269 non-null   int64 \n",
            " 2    education                 4269 non-null   object\n",
            " 3    self_employed             4269 non-null   object\n",
            " 4    income_annum              4269 non-null   int64 \n",
            " 5    loan_amount               4269 non-null   int64 \n",
            " 6    loan_term                 4269 non-null   int64 \n",
            " 7    cibil_score               4269 non-null   int64 \n",
            " 8    residential_assets_value  4269 non-null   int64 \n",
            " 9    commercial_assets_value   4269 non-null   int64 \n",
            " 10   luxury_assets_value       4269 non-null   int64 \n",
            " 11   bank_asset_value          4269 non-null   int64 \n",
            " 12   loan_status               4269 non-null   object\n",
            "dtypes: int64(10), object(3)\n",
            "memory usage: 433.7+ KB\n",
            "None\n",
            "\n",
            "Missing Values in Dataset:\n",
            "loan_id                      0\n",
            " no_of_dependents            0\n",
            " education                   0\n",
            " self_employed               0\n",
            " income_annum                0\n",
            " loan_amount                 0\n",
            " loan_term                   0\n",
            " cibil_score                 0\n",
            " residential_assets_value    0\n",
            " commercial_assets_value     0\n",
            " luxury_assets_value         0\n",
            " bank_asset_value            0\n",
            " loan_status                 0\n",
            "dtype: int64\n"
          ]
        }
      ]
    },
    {
      "cell_type": "code",
      "source": [
        "# 3. Data Cleaning\n",
        "# Fill Missing Values\n",
        "\n",
        "# Strip leading/trailing spaces from column names:\n",
        "data.columns = data.columns.str.strip()\n",
        "\n",
        "# Replace spaces or special characters with underscores (if any)\n",
        "data.columns = data.columns.str.replace(' ', '_')\n",
        "data.columns = data.columns.str.replace('[^a-zA-Z0-9_]', '_', regex=True)\n",
        "\n",
        "data['loan_amount'].fillna(data['loan_amount'].mean(), inplace=True)\n",
        "data['cibil_score'].fillna(data['cibil_score'].mode()[0], inplace=True)\n",
        "\n",
        "# Handle missing dependents (assuming it's numeric or categorical like 0 or 1+)\n",
        "data['no_of_dependents'].fillna(0, inplace=True)\n",
        "\n",
        "# Drop rows with remaining null values\n",
        "data = data.dropna()\n",
        "\n",
        "# Verify Missing Values\n",
        "print(\"\\nMissing Values After Cleaning:\")\n",
        "print(data.isnull().sum())"
      ],
      "metadata": {
        "colab": {
          "base_uri": "https://localhost:8080/"
        },
        "id": "DvRwWX8Gnfjq",
        "outputId": "3f82a15b-7356-4e7d-9996-502bc273b9d1"
      },
      "execution_count": null,
      "outputs": [
        {
          "output_type": "stream",
          "name": "stdout",
          "text": [
            "\n",
            "Missing Values After Cleaning:\n",
            "loan_id                     0\n",
            "no_of_dependents            0\n",
            "education                   0\n",
            "self_employed               0\n",
            "income_annum                0\n",
            "loan_amount                 0\n",
            "loan_term                   0\n",
            "cibil_score                 0\n",
            "residential_assets_value    0\n",
            "commercial_assets_value     0\n",
            "luxury_assets_value         0\n",
            "bank_asset_value            0\n",
            "loan_status                 0\n",
            "dtype: int64\n"
          ]
        },
        {
          "output_type": "stream",
          "name": "stderr",
          "text": [
            "<ipython-input-19-1ed0992bad55>:11: FutureWarning: A value is trying to be set on a copy of a DataFrame or Series through chained assignment using an inplace method.\n",
            "The behavior will change in pandas 3.0. This inplace method will never work because the intermediate object on which we are setting values always behaves as a copy.\n",
            "\n",
            "For example, when doing 'df[col].method(value, inplace=True)', try using 'df.method({col: value}, inplace=True)' or df[col] = df[col].method(value) instead, to perform the operation inplace on the original object.\n",
            "\n",
            "\n",
            "  data['loan_amount'].fillna(data['loan_amount'].mean(), inplace=True)\n",
            "<ipython-input-19-1ed0992bad55>:12: FutureWarning: A value is trying to be set on a copy of a DataFrame or Series through chained assignment using an inplace method.\n",
            "The behavior will change in pandas 3.0. This inplace method will never work because the intermediate object on which we are setting values always behaves as a copy.\n",
            "\n",
            "For example, when doing 'df[col].method(value, inplace=True)', try using 'df.method({col: value}, inplace=True)' or df[col] = df[col].method(value) instead, to perform the operation inplace on the original object.\n",
            "\n",
            "\n",
            "  data['cibil_score'].fillna(data['cibil_score'].mode()[0], inplace=True)\n",
            "<ipython-input-19-1ed0992bad55>:15: FutureWarning: A value is trying to be set on a copy of a DataFrame or Series through chained assignment using an inplace method.\n",
            "The behavior will change in pandas 3.0. This inplace method will never work because the intermediate object on which we are setting values always behaves as a copy.\n",
            "\n",
            "For example, when doing 'df[col].method(value, inplace=True)', try using 'df.method({col: value}, inplace=True)' or df[col] = df[col].method(value) instead, to perform the operation inplace on the original object.\n",
            "\n",
            "\n",
            "  data['no_of_dependents'].fillna(0, inplace=True)\n"
          ]
        }
      ]
    },
    {
      "cell_type": "code",
      "source": [
        "# 4. Data Preprocessing\n",
        "# Encode Categorical Variables\n",
        "encoder = LabelEncoder()\n",
        "data['education'] = encoder.fit_transform(data['education'])\n",
        "data['self_employed'] = encoder.fit_transform(data['self_employed'])\n",
        "data['loan_status'] = encoder.fit_transform(data['loan_status'])\n",
        "\n",
        "print(\"\\nData After Encoding:\")\n",
        "print(data.head())"
      ],
      "metadata": {
        "colab": {
          "base_uri": "https://localhost:8080/"
        },
        "id": "8Yq7t0HVoM7C",
        "outputId": "6092986e-07ee-4197-ef33-7d5852c866e2"
      },
      "execution_count": null,
      "outputs": [
        {
          "output_type": "stream",
          "name": "stdout",
          "text": [
            "\n",
            "Data After Encoding:\n",
            "   loan_id  no_of_dependents  education  self_employed  income_annum  \\\n",
            "0        1                 2          0              0       9600000   \n",
            "1        2                 0          1              1       4100000   \n",
            "2        3                 3          0              0       9100000   \n",
            "3        4                 3          0              0       8200000   \n",
            "4        5                 5          1              1       9800000   \n",
            "\n",
            "   loan_amount  loan_term  cibil_score  residential_assets_value  \\\n",
            "0     29900000         12          778                   2400000   \n",
            "1     12200000          8          417                   2700000   \n",
            "2     29700000         20          506                   7100000   \n",
            "3     30700000          8          467                  18200000   \n",
            "4     24200000         20          382                  12400000   \n",
            "\n",
            "   commercial_assets_value  luxury_assets_value  bank_asset_value  loan_status  \n",
            "0                 17600000             22700000           8000000            0  \n",
            "1                  2200000              8800000           3300000            1  \n",
            "2                  4500000             33300000          12800000            1  \n",
            "3                  3300000             23300000           7900000            1  \n",
            "4                  8200000             29400000           5000000            1  \n"
          ]
        }
      ]
    },
    {
      "cell_type": "code",
      "source": [
        "# 5. Feature Engineering\n",
        "# Feature: Income per Person (if required or logic to break down income)\n",
        "data['income_per_person'] = data['income_annum'] / (data['no_of_dependents'] + 1)\n",
        "\n",
        "# Feature: Loan Amount Categories\n",
        "data['loan_amount_bin'] = pd.cut(data['loan_amount'], bins=[0, 100, 200, 700], labels=['Low', 'Medium', 'High'])\n",
        "data['loan_amount_bin'] = encoder.fit_transform(data['loan_amount_bin'])\n",
        "\n",
        "print(\"\\nFeature Engineered Data:\")\n",
        "print(data[['income_per_person', 'loan_amount_bin']].head())"
      ],
      "metadata": {
        "colab": {
          "base_uri": "https://localhost:8080/"
        },
        "id": "0KMy6uNaoVTa",
        "outputId": "21223cf6-10c1-4ec6-a8bd-5372088a9a50"
      },
      "execution_count": null,
      "outputs": [
        {
          "output_type": "stream",
          "name": "stdout",
          "text": [
            "\n",
            "Feature Engineered Data:\n",
            "   income_per_person  loan_amount_bin\n",
            "0       3.200000e+06                0\n",
            "1       4.100000e+06                0\n",
            "2       2.275000e+06                0\n",
            "3       2.050000e+06                0\n",
            "4       1.633333e+06                0\n"
          ]
        }
      ]
    },
    {
      "cell_type": "code",
      "source": [
        "# 6. Split Dataset\n",
        "# Define Features and Target\n",
        "X = data.drop(columns=['loan_status', 'loan_id'])\n",
        "y = data['loan_status']\n",
        "\n",
        "# Train-Test Split\n",
        "X_train, X_test, y_train, y_test = train_test_split(X, y, test_size=0.2, random_state=42)\n",
        "\n",
        "print(\"\\nTraining and Test Data Shapes:\")\n",
        "print(\"X_train shape:\", X_train.shape)\n",
        "print(\"X_test shape:\", X_test.shape)"
      ],
      "metadata": {
        "colab": {
          "base_uri": "https://localhost:8080/"
        },
        "id": "WLaOzXGFob5R",
        "outputId": "a7be3692-fd7b-4632-9139-dd196f94f0ae"
      },
      "execution_count": null,
      "outputs": [
        {
          "output_type": "stream",
          "name": "stdout",
          "text": [
            "\n",
            "Training and Test Data Shapes:\n",
            "X_train shape: (3415, 13)\n",
            "X_test shape: (854, 13)\n"
          ]
        }
      ]
    },
    {
      "cell_type": "code",
      "source": [
        "# 7. Train Multiple Models\n",
        "# Initialize Models\n",
        "rf_model = RandomForestClassifier()\n",
        "nb_model = GaussianNB()\n",
        "dt_model = DecisionTreeClassifier()\n",
        "knn_model = KNeighborsClassifier(n_neighbors=5)\n",
        "\n",
        "# Train Models\n",
        "rf_model.fit(X_train, y_train)\n",
        "nb_model.fit(X_train, y_train)\n",
        "dt_model.fit(X_train, y_train)\n",
        "knn_model.fit(X_train, y_train)\n",
        "\n",
        "# Predictions\n",
        "rf_pred = rf_model.predict(X_test)\n",
        "nb_pred = nb_model.predict(X_test)\n",
        "dt_pred = dt_model.predict(X_test)\n",
        "knn_pred = knn_model.predict(X_test)\n",
        "\n",
        "# Evaluate Models\n",
        "print(\"\\nModel Accuracies:\")\n",
        "print(\"Random Forest:\", accuracy_score(y_test, rf_pred))\n",
        "print(\"Naive Bayes:\", accuracy_score(y_test, nb_pred))\n",
        "print(\"Decision Tree:\", accuracy_score(y_test, dt_pred))\n",
        "print(\"KNN:\", accuracy_score(y_test, knn_pred))"
      ],
      "metadata": {
        "colab": {
          "base_uri": "https://localhost:8080/"
        },
        "id": "ZQ2EtT_coipR",
        "outputId": "cc3b6d12-9f7a-4b3e-df86-a5ac8997f556"
      },
      "execution_count": null,
      "outputs": [
        {
          "output_type": "stream",
          "name": "stdout",
          "text": [
            "\n",
            "Model Accuracies:\n",
            "Random Forest: 0.9765807962529274\n",
            "Naive Bayes: 0.7728337236533958\n",
            "Decision Tree: 0.977751756440281\n",
            "KNN: 0.5585480093676815\n"
          ]
        }
      ]
    },
    {
      "cell_type": "code",
      "source": [
        "# 8. Ensemble Methods\n",
        "# Ensemble Model\n",
        "ensemble_model = VotingClassifier(estimators=[\n",
        "    ('rf', rf_model), ('nb', nb_model), ('dt', dt_model), ('knn', knn_model)\n",
        "], voting='hard')\n",
        "\n",
        "ensemble_model.fit(X_train, y_train)\n",
        "ensemble_pred = ensemble_model.predict(X_test)"
      ],
      "metadata": {
        "id": "ofIdYCDBoqga"
      },
      "execution_count": null,
      "outputs": []
    },
    {
      "cell_type": "code",
      "source": [
        "# 9. Visualization\n",
        "# Confusion Matrix for Ensemble Model\n",
        "sns.heatmap(confusion_matrix(y_test, ensemble_pred), annot=True, cmap='Blues', fmt='d')\n",
        "plt.title(\"Confusion Matrix - Ensemble Model\")\n",
        "plt.ylabel('Actual')\n",
        "plt.xlabel('Predicted')\n",
        "plt.show()"
      ],
      "metadata": {
        "colab": {
          "base_uri": "https://localhost:8080/",
          "height": 472
        },
        "id": "E9r-Engjovbh",
        "outputId": "85e9302e-c8d3-4879-9e7c-6db584f18fa5"
      },
      "execution_count": null,
      "outputs": [
        {
          "output_type": "display_data",
          "data": {
            "text/plain": [
              "<Figure size 640x480 with 2 Axes>"
            ],
            "image/png": "[encoded data removed]"
          },
          "metadata": {}
        }
      ]
    },
    {
      "cell_type": "code",
      "source": [
        "# Feature Importance (Random Forest)\n",
        "plt.figure(figsize=(10, 6))\n",
        "importance = rf_model.feature_importances_\n",
        "sns.barplot(x=importance, y=X.columns)\n",
        "plt.title(\"Feature Importance - Random Forest\")\n",
        "plt.show()"
      ],
      "metadata": {
        "colab": {
          "base_uri": "https://localhost:8080/",
          "height": 545
        },
        "id": "JkRguseCo1cZ",
        "outputId": "e96ac303-8105-4979-915f-713a9d02ae30"
      },
      "execution_count": null,
      "outputs": [
        {
          "output_type": "display_data",
          "data": {
            "text/plain": [
              "<Figure size 1000x600 with 1 Axes>"
            ],
            "image/png": "[encoded data removed]"
          },
          "metadata": {}
        }
      ]
    },
    {
      "cell_type": "code",
      "source": [
        "# 10. Conclusion\n",
        "print(\"\\nConclusion:\")\n",
        "\n",
        "# Conclusion based on model performance\n",
        "print(\"\\n- The Random Forest Classifier model performed well in terms of accuracy and feature importance.\")\n",
        "print(\"- The ensemble method, combining Random Forest, Naive Bayes, Decision Tree, and KNN, provided the best accuracy.\")\n",
        "print(\"- The 'income_per_person' feature was significant for predictions, especially for loan approval classification.\")\n",
        "print(\"- The confusion matrix indicates that the models handled loan approvals and rejections quite well, but there is some room for improvement in terms of false positives and false negatives.\")\n",
        "\n",
        "# Optionally, you could print out the classification report to provide more insights\n",
        "print(\"\\nClassification Report for the Ensemble Model:\")\n",
        "print(classification_report(y_test, ensemble_pred))\n"
      ],
      "metadata": {
        "colab": {
          "base_uri": "https://localhost:8080/"
        },
        "id": "M21jEvI7o9zI",
        "outputId": "6a0db281-e038-428a-c8b5-7e8f7eb74b67"
      },
      "execution_count": null,
      "outputs": [
        {
          "output_type": "stream",
          "name": "stdout",
          "text": [
            "\n",
            "Conclusion:\n",
            "\n",
            "- The Random Forest Classifier model performed well in terms of accuracy and feature importance.\n",
            "- The ensemble method, combining Random Forest, Naive Bayes, Decision Tree, and KNN, provided the best accuracy.\n",
            "- The 'income_per_person' feature was significant for predictions, especially for loan approval classification.\n",
            "- The confusion matrix indicates that the models handled loan approvals and rejections quite well, but there is some room for improvement in terms of false positives and false negatives.\n",
            "\n",
            "Classification Report for the Ensemble Model:\n",
            "              precision    recall  f1-score   support\n",
            "\n",
            "           0       0.79      1.00      0.88       536\n",
            "           1       0.99      0.55      0.71       318\n",
            "\n",
            "    accuracy                           0.83       854\n",
            "   macro avg       0.89      0.78      0.80       854\n",
            "weighted avg       0.87      0.83      0.82       854\n",
            "\n"
          ]
        }
      ]
    },
    {
      "cell_type": "code",
      "source": [
        "# Import required libraries\n",
        "import pandas as pd\n",
        "from sklearn.model_selection import train_test_split\n",
        "from sklearn.ensemble import RandomForestClassifier\n",
        "from sklearn.metrics import accuracy_score\n",
        "import pickle\n",
        "\n",
        "# Load the dataset (replace 'your_loan_dataset.csv' with your actual file name)\n",
        "data = pd.read_csv('/content/drive/My Drive/Colab Notebooks/loan_approval_dataset.csv')\n",
        "# Show the first few rows to confirm the column names\n",
        "print(\"Dataset Preview:\")\n",
        "print(data.head())\n",
        "\n",
        "\n"
      ],
      "metadata": {
        "colab": {
          "base_uri": "https://localhost:8080/"
        },
        "id": "wJExv_Y53qce",
        "outputId": "af0d03c1-ff42-47c8-e0bb-b29f5b8fd596"
      },
      "execution_count": null,
      "outputs": [
        {
          "output_type": "stream",
          "name": "stdout",
          "text": [
            "Dataset Preview:\n",
            "   loan_id   no_of_dependents      education  self_employed   income_annum  \\\n",
            "0        1                  2       Graduate             No        9600000   \n",
            "1        2                  0   Not Graduate            Yes        4100000   \n",
            "2        3                  3       Graduate             No        9100000   \n",
            "3        4                  3       Graduate             No        8200000   \n",
            "4        5                  5   Not Graduate            Yes        9800000   \n",
            "\n",
            "    loan_amount   loan_term   cibil_score   residential_assets_value  \\\n",
            "0      29900000          12           778                    2400000   \n",
            "1      12200000           8           417                    2700000   \n",
            "2      29700000          20           506                    7100000   \n",
            "3      30700000           8           467                   18200000   \n",
            "4      24200000          20           382                   12400000   \n",
            "\n",
            "    commercial_assets_value   luxury_assets_value   bank_asset_value  \\\n",
            "0                  17600000              22700000            8000000   \n",
            "1                   2200000               8800000            3300000   \n",
            "2                   4500000              33300000           12800000   \n",
            "3                   3300000              23300000            7900000   \n",
            "4                   8200000              29400000            5000000   \n",
            "\n",
            "   loan_status  \n",
            "0     Approved  \n",
            "1     Rejected  \n",
            "2     Rejected  \n",
            "3     Rejected  \n",
            "4     Rejected  \n"
          ]
        }
      ]
    },
    {
      "cell_type": "code",
      "source": [
        "# Import required libraries\n",
        "import pandas as pd\n",
        "from sklearn.model_selection import train_test_split\n",
        "from sklearn.ensemble import RandomForestClassifier\n",
        "from sklearn.metrics import accuracy_score\n",
        "import pickle\n",
        "\n",
        "# Load the dataset\n",
        "data = pd.read_csv('/content/drive/My Drive/Colab Notebooks/loan_approval_dataset.csv')\n",
        "\n",
        "# Data Cleaning (same as before)\n",
        "data.columns = data.columns.str.strip()\n",
        "data.columns = data.columns.str.replace(' ', '_')\n",
        "data.columns = data.columns.str.replace('[^a-zA-Z0-9_]', '_', regex=True)\n",
        "\n",
        "# ... (rest of your data cleaning and preprocessing code) ...\n",
        "\n",
        "# Debugging: Print column names to verify\n",
        "print(\"DataFrame Columns:\", data.columns)\n",
        "\n",
        "# Define features (X) and target (y)\n",
        "try:\n",
        "    X = data[['no_of_dependents', 'education', 'self_employed', 'income_annum',\n",
        "              'loan_amount', 'loan_term', 'cibil_score', 'residential_assets_value',\n",
        "              'commercial_assets_value', 'luxury_assets_value', 'bank_asset_value']]\n",
        "    print(\"Features selected successfully!\")\n",
        "except KeyError as e:\n",
        "    print(\"KeyError:\", e)\n",
        "    missing_cols = [col for col in ['no_of_dependents', 'education', 'self_employed', 'income_annum',\n",
        "                                    'loan_amount', 'loan_term', 'cibil_score', 'residential_assets_value',\n",
        "                                    'commercial_assets_value', 'luxury_assets_value', 'bank_asset_value']\n",
        "                    if col not in data.columns]\n",
        "    print(\"Missing columns:\", missing_cols)\n",
        "\n",
        "y = data['loan_status']  # Target variable: 1 for Approved, 0 for Rejected\n"
      ],
      "metadata": {
        "colab": {
          "base_uri": "https://localhost:8080/"
        },
        "id": "ybivYmTZ314p",
        "outputId": "aaf8cbad-0bca-48b4-ed2e-eefd74278e51"
      },
      "execution_count": null,
      "outputs": [
        {
          "output_type": "stream",
          "name": "stdout",
          "text": [
            "DataFrame Columns: Index(['loan_id', 'no_of_dependents', 'education', 'self_employed',\n",
            "       'income_annum', 'loan_amount', 'loan_term', 'cibil_score',\n",
            "       'residential_assets_value', 'commercial_assets_value',\n",
            "       'luxury_assets_value', 'bank_asset_value', 'loan_status'],\n",
            "      dtype='object')\n",
            "Features selected successfully!\n"
          ]
        }
      ]
    },
    {
      "cell_type": "code",
      "source": [
        "# Split the data into training (80%) and testing (20%) sets\n",
        "X_train, X_test, y_train, y_test = train_test_split(X, y, test_size=0.2, random_state=42)\n",
        "\n",
        "print(\"Training and testing data split successfully!\")\n"
      ],
      "metadata": {
        "colab": {
          "base_uri": "https://localhost:8080/"
        },
        "id": "RA3sFLrH4zsQ",
        "outputId": "26bb3dd8-f9e9-4d95-c0c3-bfc57d3fe723"
      },
      "execution_count": null,
      "outputs": [
        {
          "output_type": "stream",
          "name": "stdout",
          "text": [
            "Training and testing data split successfully!\n"
          ]
        }
      ]
    },
    {
      "cell_type": "code",
      "source": [
        "# Import required libraries\n",
        "import pandas as pd\n",
        "from sklearn.model_selection import train_test_split\n",
        "from sklearn.ensemble import RandomForestClassifier\n",
        "from sklearn.metrics import accuracy_score\n",
        "import pickle\n",
        "from sklearn.preprocessing import LabelEncoder  # Import LabelEncoder\n",
        "\n",
        "# Load the dataset\n",
        "data = pd.read_csv('/content/drive/My Drive/Colab Notebooks/loan_approval_dataset.csv')\n",
        "\n",
        "# Data Cleaning (same as before)\n",
        "data.columns = data.columns.str.strip()\n",
        "data.columns = data.columns.str.replace(' ', '_')\n",
        "data.columns = data.columns.str.replace('[^a-zA-Z0-9_]', '_', regex=True)\n",
        "\n",
        "# ----> Start of Data Preprocessing <----\n",
        "# Encode Categorical Variables\n",
        "encoder = LabelEncoder()\n",
        "categorical_cols = ['education', 'self_employed', 'loan_status', 'loan_amount_bin']  # Add other categorical cols if needed\n",
        "for col in categorical_cols:\n",
        "    if col in data.columns: # Check if column exists in DataFrame\n",
        "        data[col] = encoder.fit_transform(data[col].astype(str))\n",
        "# ----> End of Data Preprocessing <----\n",
        "\n",
        "# Debugging: Print column names to verify\n",
        "print(\"DataFrame Columns:\", data.columns)\n",
        "\n",
        "# Define features (X) and target (y)\n",
        "try:\n",
        "    X = data[['no_of_dependents', 'education', 'self_employed', 'income_annum',\n",
        "              'loan_amount', 'loan_term', 'cibil_score', 'residential_assets_value',\n",
        "              'commercial_assets_value', 'luxury_assets_value', 'bank_asset_value']]\n",
        "    print(\"Features selected successfully!\")\n",
        "except KeyError as e:\n",
        "    print(\"KeyError:\", e)\n",
        "    missing_cols = [col for col in ['no_of_dependents', 'education', 'self_employed', 'income_annum',\n",
        "                                    'loan_amount', 'loan_term', 'cibil_score', 'residential_assets_value',\n",
        "                                    'commercial_assets_value', 'luxury_assets_value', 'bank_asset_value']\n",
        "                    if col not in data.columns]\n",
        "    print(\"Missing columns:\", missing_cols)\n",
        "\n",
        "y = data['loan_status']  # Target variable: 1 for Approved, 0 for Rejected\n",
        "\n",
        "# Split the data into training (80%) and testing (20%) sets\n",
        "X_train, X_test, y_train, y_test = train_test_split(X, y, test_size=0.2, random_state=42)\n",
        "\n",
        "print(\"Training and testing data split successfully!\")\n",
        "\n",
        "# Initialize and train the Random Forest model\n",
        "model = RandomForestClassifier()\n",
        "model.fit(X_train, y_train)\n",
        "\n",
        "print(\"Model training completed successfully!\")"
      ],
      "metadata": {
        "colab": {
          "base_uri": "https://localhost:8080/"
        },
        "id": "ASOhu6RE5b7W",
        "outputId": "4350fb66-3e47-4820-cebf-261e73f8f241"
      },
      "execution_count": null,
      "outputs": [
        {
          "output_type": "stream",
          "name": "stdout",
          "text": [
            "DataFrame Columns: Index(['loan_id', 'no_of_dependents', 'education', 'self_employed',\n",
            "       'income_annum', 'loan_amount', 'loan_term', 'cibil_score',\n",
            "       'residential_assets_value', 'commercial_assets_value',\n",
            "       'luxury_assets_value', 'bank_asset_value', 'loan_status'],\n",
            "      dtype='object')\n",
            "Features selected successfully!\n",
            "Training and testing data split successfully!\n",
            "Model training completed successfully!\n"
          ]
        }
      ]
    },
    {
      "cell_type": "code",
      "source": [
        "# Predict on the test data\n",
        "y_pred = model.predict(X_test)\n",
        "\n",
        "# Calculate accuracy\n",
        "accuracy = accuracy_score(y_test, y_pred)\n",
        "print(f\"Model Accuracy: {accuracy:.2f}\")\n"
      ],
      "metadata": {
        "colab": {
          "base_uri": "https://localhost:8080/"
        },
        "id": "jrq1l8sX5uXU",
        "outputId": "56e39901-c114-48ca-c4af-e1433f4e8689"
      },
      "execution_count": null,
      "outputs": [
        {
          "output_type": "stream",
          "name": "stdout",
          "text": [
            "Model Accuracy: 0.98\n"
          ]
        }
      ]
    },
    {
      "cell_type": "code",
      "source": [
        "# Save the trained model to a file\n",
        "with open('loan_model.pkl', 'wb') as model_file:\n",
        "    pickle.dump(model, model_file)\n",
        "\n",
        "print(\"Trained model saved as 'loan_model.pkl'\")\n"
      ],
      "metadata": {
        "colab": {
          "base_uri": "https://localhost:8080/"
        },
        "id": "98ShnoiQ51B4",
        "outputId": "730d2bc2-8299-4a97-bb5b-0d1c29d08f14"
      },
      "execution_count": null,
      "outputs": [
        {
          "output_type": "stream",
          "name": "stdout",
          "text": [
            "Trained model saved as 'loan_model.pkl'\n"
          ]
        }
      ]
    },
    {
      "cell_type": "code",
      "source": [
        "from google.colab import files\n",
        "\n",
        "# Download the model file\n",
        "files.download('loan_model.pkl')\n"
      ],
      "metadata": {
        "colab": {
          "base_uri": "https://localhost:8080/",
          "height": 17
        },
        "id": "G1lgzV9d57RT",
        "outputId": "e46d387a-eaed-4b18-a9fb-5ba4190c3155"
      },
      "execution_count": null,
      "outputs": [
        {
          "output_type": "display_data",
          "data": {
            "text/plain": [
              "<IPython.core.display.Javascript object>"
            ],
            "application/javascript": [
              "\n",
              "    async function download(id, filename, size) {\n",
              "      if (!google.colab.kernel.accessAllowed) {\n",
              "        return;\n",
              "      }\n",
              "      const div = document.createElement('div');\n",
              "      const label = document.createElement('label');\n",
              "      label.textContent = `Downloading \"${filename}\": `;\n",
              "      div.appendChild(label);\n",
              "      const progress = document.createElement('progress');\n",
              "      progress.max = size;\n",
              "      div.appendChild(progress);\n",
              "      document.body.appendChild(div);\n",
              "\n",
              "      const buffers = [];\n",
              "      let downloaded = 0;\n",
              "\n",
              "      const channel = await google.colab.kernel.comms.open(id);\n",
              "      // Send a message to notify the kernel that we're ready.\n",
              "      channel.send({})\n",
              "\n",
              "      for await (const message of channel.messages) {\n",
              "        // Send a message to notify the kernel that we're ready.\n",
              "        channel.send({})\n",
              "        if (message.buffers) {\n",
              "          for (const buffer of message.buffers) {\n",
              "            buffers.push(buffer);\n",
              "            downloaded += buffer.byteLength;\n",
              "            progress.value = downloaded;\n",
              "          }\n",
              "        }\n",
              "      }\n",
              "      const blob = new Blob(buffers, {type: 'application/binary'});\n",
              "      const a = document.createElement('a');\n",
              "      a.href = window.URL.createObjectURL(blob);\n",
              "      a.download = filename;\n",
              "      div.appendChild(a);\n",
              "      a.click();\n",
              "      div.remove();\n",
              "    }\n",
              "  "
            ]
          },
          "metadata": {}
        },
        {
          "output_type": "display_data",
          "data": {
            "text/plain": [
              "<IPython.core.display.Javascript object>"
            ],
            "application/javascript": [
              "download(\"download_e43a823d-cfe2-4171-92c3-819f645e101a\", \"loan_model.pkl\", 1697898)"
            ]
          },
          "metadata": {}
        }
      ]
    },
    {
      "cell_type": "code",
      "source": [
        "from google.colab import files\n",
        "\n",
        "# Upload the file\n",
        "uploaded = files.upload()\n",
        "\n",
        "# Get the filename from the uploaded dictionary\n",
        "filename = list(uploaded.keys())[0]\n",
        "\n",
        "# Load the model\n",
        "import pickle\n",
        "model = pickle.load(open(filename, 'rb'))\n",
        "print(\"Model loaded successfully\")"
      ],
      "metadata": {
        "colab": {
          "base_uri": "https://localhost:8080/",
          "height": 90
        },
        "id": "iE3XXD6mA19-",
        "outputId": "b83b94a9-b751-4ede-e435-d9ebd0767324"
      },
      "execution_count": null,
      "outputs": [
        {
          "output_type": "display_data",
          "data": {
            "text/plain": [
              "<IPython.core.display.HTML object>"
            ],
            "text/html": [
              "\n",
              "     <input type=\"file\" id=\"files-60364077-9f0f-4597-8af2-71d76410f990\" name=\"files[]\" multiple disabled\n",
              "        style=\"border:none\" />\n",
              "     <output id=\"result-60364077-9f0f-4597-8af2-71d76410f990\">\n",
              "      Upload widget is only available when the cell has been executed in the\n",
              "      current browser session. Please rerun this cell to enable.\n",
              "      </output>\n",
              "      <script>// Copyright 2017 Google LLC\n",
              "//\n",
              "// Licensed under the Apache License, Version 2.0 (the \"License\");\n",
              "// you may not use this file except in compliance with the License.\n",
              "// You may obtain a copy of the License at\n",
              "//\n",
              "//      http://www.apache.org/licenses/LICENSE-2.0\n",
              "//\n",
              "// Unless required by applicable law or agreed to in writing, software\n",
              "// distributed under the License is distributed on an \"AS IS\" BASIS,\n",
              "// WITHOUT WARRANTIES OR CONDITIONS OF ANY KIND, either express or implied.\n",
              "// See the License for the specific language governing permissions and\n",
              "// limitations under the License.\n",
              "\n",
              "/**\n",
              " * @fileoverview Helpers for google.colab Python module.\n",
              " */\n",
              "(function(scope) {\n",
              "function span(text, styleAttributes = {}) {\n",
              "  const element = document.createElement('span');\n",
              "  element.textContent = text;\n",
              "  for (const key of Object.keys(styleAttributes)) {\n",
              "    element.style[key] = styleAttributes[key];\n",
              "  }\n",
              "  return element;\n",
              "}\n",
              "\n",
              "// Max number of bytes which will be uploaded at a time.\n",
              "const MAX_PAYLOAD_SIZE = 100 * 1024;\n",
              "\n",
              "function _uploadFiles(inputId, outputId) {\n",
              "  const steps = uploadFilesStep(inputId, outputId);\n",
              "  const outputElement = document.getElementById(outputId);\n",
              "  // Cache steps on the outputElement to make it available for the next call\n",
              "  // to uploadFilesContinue from Python.\n",
              "  outputElement.steps = steps;\n",
              "\n",
              "  return _uploadFilesContinue(outputId);\n",
              "}\n",
              "\n",
              "// This is roughly an async generator (not supported in the browser yet),\n",
              "// where there are multiple asynchronous steps and the Python side is going\n",
              "// to poll for completion of each step.\n",
              "// This uses a Promise to block the python side on completion of each step,\n",
              "// then passes the result of the previous step as the input to the next step.\n",
              "function _uploadFilesContinue(outputId) {\n",
              "  const outputElement = document.getElementById(outputId);\n",
              "  const steps = outputElement.steps;\n",
              "\n",
              "  const next = steps.next(outputElement.lastPromiseValue);\n",
              "  return Promise.resolve(next.value.promise).then((value) => {\n",
              "    // Cache the last promise value to make it available to the next\n",
              "    // step of the generator.\n",
              "    outputElement.lastPromiseValue = value;\n",
              "    return next.value.response;\n",
              "  });\n",
              "}\n",
              "\n",
              "/**\n",
              " * Generator function which is called between each async step of the upload\n",
              " * process.\n",
              " * @param {string} inputId Element ID of the input file picker element.\n",
              " * @param {string} outputId Element ID of the output display.\n",
              " * @return {!Iterable<!Object>} Iterable of next steps.\n",
              " */\n",
              "function* uploadFilesStep(inputId, outputId) {\n",
              "  const inputElement = document.getElementById(inputId);\n",
              "  inputElement.disabled = false;\n",
              "\n",
              "  const outputElement = document.getElementById(outputId);\n",
              "  outputElement.innerHTML = '';\n",
              "\n",
              "  const pickedPromise = new Promise((resolve) => {\n",
              "    inputElement.addEventListener('change', (e) => {\n",
              "      resolve(e.target.files);\n",
              "    });\n",
              "  });\n",
              "\n",
              "  const cancel = document.createElement('button');\n",
              "  inputElement.parentElement.appendChild(cancel);\n",
              "  cancel.textContent = 'Cancel upload';\n",
              "  const cancelPromise = new Promise((resolve) => {\n",
              "    cancel.onclick = () => {\n",
              "      resolve(null);\n",
              "    };\n",
              "  });\n",
              "\n",
              "  // Wait for the user to pick the files.\n",
              "  const files = yield {\n",
              "    promise: Promise.race([pickedPromise, cancelPromise]),\n",
              "    response: {\n",
              "      action: 'starting',\n",
              "    }\n",
              "  };\n",
              "\n",
              "  cancel.remove();\n",
              "\n",
              "  // Disable the input element since further picks are not allowed.\n",
              "  inputElement.disabled = true;\n",
              "\n",
              "  if (!files) {\n",
              "    return {\n",
              "      response: {\n",
              "        action: 'complete',\n",
              "      }\n",
              "    };\n",
              "  }\n",
              "\n",
              "  for (const file of files) {\n",
              "    const li = document.createElement('li');\n",
              "    li.append(span(file.name, {fontWeight: 'bold'}));\n",
              "    li.append(span(\n",
              "        `(${file.type || 'n/a'}) - ${file.size} bytes, ` +\n",
              "        `last modified: ${\n",
              "            file.lastModifiedDate ? file.lastModifiedDate.toLocaleDateString() :\n",
              "                                    'n/a'} - `));\n",
              "    const percent = span('0% done');\n",
              "    li.appendChild(percent);\n",
              "\n",
              "    outputElement.appendChild(li);\n",
              "\n",
              "    const fileDataPromise = new Promise((resolve) => {\n",
              "      const reader = new FileReader();\n",
              "      reader.onload = (e) => {\n",
              "        resolve(e.target.result);\n",
              "      };\n",
              "      reader.readAsArrayBuffer(file);\n",
              "    });\n",
              "    // Wait for the data to be ready.\n",
              "    let fileData = yield {\n",
              "      promise: fileDataPromise,\n",
              "      response: {\n",
              "        action: 'continue',\n",
              "      }\n",
              "    };\n",
              "\n",
              "    // Use a chunked sending to avoid message size limits. See b/62115660.\n",
              "    let position = 0;\n",
              "    do {\n",
              "      const length = Math.min(fileData.byteLength - position, MAX_PAYLOAD_SIZE);\n",
              "      const chunk = new Uint8Array(fileData, position, length);\n",
              "      position += length;\n",
              "\n",
              "      const base64 = btoa(String.fromCharCode.apply(null, chunk));\n",
              "      yield {\n",
              "        response: {\n",
              "          action: 'append',\n",
              "          file: file.name,\n",
              "          data: base64,\n",
              "        },\n",
              "      };\n",
              "\n",
              "      let percentDone = fileData.byteLength === 0 ?\n",
              "          100 :\n",
              "          Math.round((position / fileData.byteLength) * 100);\n",
              "      percent.textContent = `${percentDone}% done`;\n",
              "\n",
              "    } while (position < fileData.byteLength);\n",
              "  }\n",
              "\n",
              "  // All done.\n",
              "  yield {\n",
              "    response: {\n",
              "      action: 'complete',\n",
              "    }\n",
              "  };\n",
              "}\n",
              "\n",
              "scope.google = scope.google || {};\n",
              "scope.google.colab = scope.google.colab || {};\n",
              "scope.google.colab._files = {\n",
              "  _uploadFiles,\n",
              "  _uploadFilesContinue,\n",
              "};\n",
              "})(self);\n",
              "</script> "
            ]
          },
          "metadata": {}
        },
        {
          "output_type": "stream",
          "name": "stdout",
          "text": [
            "Saving loan_model.pkl to loan_model (1).pkl\n",
            "Model loaded successfully\n"
          ]
        }
      ]
    },
    {
      "cell_type": "code",
      "source": [
        "import pickle\n",
        "\n",
        "# Load the trained model from the uploaded file\n",
        "with open('/content/loan_model.pkl', 'rb') as model_file:\n",
        "    model = pickle.load(model_file)\n",
        "\n",
        "print(\"Model loaded successfully!\")\n"
      ],
      "metadata": {
        "colab": {
          "base_uri": "https://localhost:8080/"
        },
        "id": "HHrcYP0_BMgV",
        "outputId": "f99af4f6-724a-4364-eae5-32655aeffa40"
      },
      "execution_count": null,
      "outputs": [
        {
          "output_type": "stream",
          "name": "stdout",
          "text": [
            "Model loaded successfully!\n"
          ]
        }
      ]
    },
    {
      "cell_type": "code",
      "source": [
        "import pandas as pd\n",
        "\n",
        "# Sample input (replace with actual input structure)\n",
        "input_data = pd.DataFrame({\n",
        "    'no_of_dependents': [0],\n",
        "    'education': [1],  # Graduate = 1, Non-Graduate = 0\n",
        "    'self_employed': [0],  # No = 0, Yes = 1\n",
        "    'income_annum': [500000],\n",
        "    'loan_amount': [500000],\n",
        "    'loan_term': [15],\n",
        "    'cibil_score': [700],\n",
        "    'residential_assets_value': [1000000],\n",
        "    'commercial_assets_value': [500000],\n",
        "    'luxury_assets_value': [100000],\n",
        "    'bank_asset_value': [200000]\n",
        "})\n",
        "\n",
        "# Predict using the model\n",
        "prediction = model.predict(input_data)\n",
        "print(\"Prediction:\", prediction)\n"
      ],
      "metadata": {
        "id": "lSGNRBpRBTGb",
        "outputId": "d737e66d-34a5-446b-c492-0b43d07a8e92",
        "colab": {
          "base_uri": "https://localhost:8080/"
        }
      },
      "execution_count": null,
      "outputs": [
        {
          "output_type": "stream",
          "name": "stdout",
          "text": [
            "Prediction: [0]\n"
          ]
        }
      ]
    }
  ]
}